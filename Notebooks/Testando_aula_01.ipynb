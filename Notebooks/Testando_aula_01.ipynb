{
 "cells": [
  {
   "cell_type": "code",
   "execution_count": 2,
   "metadata": {
    "colab": {
     "base_uri": "https://localhost:8080/",
     "height": 34
    },
    "colab_type": "code",
    "id": "dhIMqjrJnCeo",
    "outputId": "3304e360-8b8c-42a3-bd8c-0f31f20834fd"
   },
   "outputs": [
    {
     "name": "stdout",
     "output_type": "stream",
     "text": [
      "Hello Word\n"
     ]
    }
   ],
   "source": [
    "print(\"Hello Word\")"
   ]
  },
  {
   "cell_type": "code",
   "execution_count": 3,
   "metadata": {
    "colab": {
     "base_uri": "https://localhost:8080/",
     "height": 34
    },
    "colab_type": "code",
    "id": "9obH1AwvnSZm",
    "outputId": "05364c45-f491-468d-854b-1e0bdc5782b4"
   },
   "outputs": [
    {
     "name": "stdout",
     "output_type": "stream",
     "text": [
      "Meus primeiros comando em Jupyter\n"
     ]
    }
   ],
   "source": [
    "print(\"Meus primeiros comando em Jupyter\")"
   ]
  },
  {
   "cell_type": "code",
   "execution_count": 6,
   "metadata": {
    "colab": {
     "base_uri": "https://localhost:8080/",
     "height": 34
    },
    "colab_type": "code",
    "id": "m5QR6IFzndBI",
    "outputId": "081c0f35-0827-4c7f-eedb-c1b8b1282aba",
    "scrolled": true
   },
   "outputs": [
    {
     "data": {
      "text/plain": [
       "100"
      ]
     },
     "execution_count": 6,
     "metadata": {},
     "output_type": "execute_result"
    }
   ],
   "source": [
    "10**2\n"
   ]
  },
  {
   "cell_type": "code",
   "execution_count": 13,
   "metadata": {
    "colab": {
     "base_uri": "https://localhost:8080/",
     "height": 34
    },
    "colab_type": "code",
    "id": "Ndi2z1q3nf1V",
    "outputId": "f9f6236d-e55e-47cb-c0fd-6a072e0616c7"
   },
   "outputs": [
    {
     "name": "stdout",
     "output_type": "stream",
     "text": [
      "Primeira impressões do curso de Python e curso de Pandas\n"
     ]
    }
   ],
   "source": [
    "frase = 'Primeira impressões do curso de Python e curso de Pandas'\n",
    "print(frase)"
   ]
  },
  {
   "cell_type": "code",
   "execution_count": 9,
   "metadata": {
    "colab": {
     "base_uri": "https://localhost:8080/",
     "height": 34
    },
    "colab_type": "code",
    "id": "yQwB0lfEnpww",
    "outputId": "b66091c9-bf37-46c4-d994-c74135f73e7d"
   },
   "outputs": [
    {
     "data": {
      "text/plain": [
       "'m'"
      ]
     },
     "execution_count": 9,
     "metadata": {},
     "output_type": "execute_result"
    }
   ],
   "source": [
    "frase[10]"
   ]
  },
  {
   "cell_type": "code",
   "execution_count": 11,
   "metadata": {
    "colab": {},
    "colab_type": "code",
    "id": "Nf_MDyjqnsDV"
   },
   "outputs": [
    {
     "data": {
      "text/plain": [
       "'meõ  r  tn ns'"
      ]
     },
     "execution_count": 11,
     "metadata": {},
     "output_type": "execute_result"
    }
   ],
   "source": [
    "frase[10::3]"
   ]
  },
  {
   "cell_type": "code",
   "execution_count": 14,
   "metadata": {
    "colab": {
     "base_uri": "https://localhost:8080/",
     "height": 34
    },
    "colab_type": "code",
    "id": "5h0x8aAjnz92",
    "outputId": "21b2dc6e-7719-421e-c37c-e17b18133fb5"
   },
   "outputs": [
    {
     "data": {
      "text/plain": [
       "2"
      ]
     },
     "execution_count": 14,
     "metadata": {},
     "output_type": "execute_result"
    }
   ],
   "source": [
    "frase.count('curso') # esse comando retorna quantas vezes a palavra se repete na frase"
   ]
  },
  {
   "cell_type": "code",
   "execution_count": 15,
   "metadata": {
    "colab": {
     "base_uri": "https://localhost:8080/",
     "height": 34
    },
    "colab_type": "code",
    "id": "87rcOMCXn7h8",
    "outputId": "589fb28a-ae0e-4bae-90f4-a72689c33f31"
   },
   "outputs": [
    {
     "data": {
      "text/plain": [
       "'primeira impressões do curso de python e curso de pandas'"
      ]
     },
     "execution_count": 15,
     "metadata": {},
     "output_type": "execute_result"
    }
   ],
   "source": [
    "frase.lower()# esse comando retorna todas as letras em minusculo"
   ]
  },
  {
   "cell_type": "code",
   "execution_count": 16,
   "metadata": {
    "colab": {},
    "colab_type": "code",
    "id": "LVV58GH0n-eu"
   },
   "outputs": [
    {
     "data": {
      "text/plain": [
       "'Primeira Impressões Do Curso De Python E Curso De Pandas'"
      ]
     },
     "execution_count": 16,
     "metadata": {},
     "output_type": "execute_result"
    }
   ],
   "source": [
    "frase.title()# retorna a primeira letra de cada palavra em maiscula"
   ]
  },
  {
   "cell_type": "code",
   "execution_count": 17,
   "metadata": {
    "colab": {
     "base_uri": "https://localhost:8080/",
     "height": 34
    },
    "colab_type": "code",
    "id": "VwZSfZYuoJaV",
    "outputId": "38664259-4b1f-49f4-d1fe-f9604e3d15c7"
   },
   "outputs": [
    {
     "data": {
      "text/plain": [
       "'PRIMEIRA IMPRESSÕES DO CURSO DE PYTHON E CURSO DE PANDAS'"
      ]
     },
     "execution_count": 17,
     "metadata": {},
     "output_type": "execute_result"
    }
   ],
   "source": [
    "frase.upper()# Retorna tudo em mauisculo"
   ]
  },
  {
   "cell_type": "code",
   "execution_count": 18,
   "metadata": {
    "colab": {},
    "colab_type": "code",
    "id": "2pK5z3YUoOpF"
   },
   "outputs": [
    {
     "data": {
      "text/plain": [
       "'Primeira impressões do curso de python e curso de pandas'"
      ]
     },
     "execution_count": 18,
     "metadata": {},
     "output_type": "execute_result"
    }
   ],
   "source": [
    "frase.capitalize()#retorna a primeira letra da fraze em maiscula"
   ]
  },
  {
   "cell_type": "code",
   "execution_count": 25,
   "metadata": {
    "colab": {
     "base_uri": "https://localhost:8080/",
     "height": 34
    },
    "colab_type": "code",
    "id": "pHzUyecgoaYN",
    "outputId": "3a39c4b0-415e-470e-e1c1-f07a89fa901d"
   },
   "outputs": [
    {
     "data": {
      "text/plain": [
       "'Primeira impressões do curso de Python e curso de Jupyter'"
      ]
     },
     "execution_count": 25,
     "metadata": {},
     "output_type": "execute_result"
    }
   ],
   "source": [
    "frase.replace('Pandas','Jupyter')"
   ]
  },
  {
   "cell_type": "code",
   "execution_count": 27,
   "metadata": {
    "colab": {
     "base_uri": "https://localhost:8080/",
     "height": 34
    },
    "colab_type": "code",
    "id": "cy1POOCzojp6",
    "outputId": "c00a2795-c719-4403-c315-f416801f42e6"
   },
   "outputs": [],
   "source": [
    "frase = frase.upper()"
   ]
  },
  {
   "cell_type": "code",
   "execution_count": 28,
   "metadata": {
    "colab": {
     "base_uri": "https://localhost:8080/",
     "height": 34
    },
    "colab_type": "code",
    "id": "PE6ae8vYorQ6",
    "outputId": "8399af34-e066-49c6-9a54-205cbe8d72d7"
   },
   "outputs": [
    {
     "data": {
      "text/plain": [
       "'PRIMEIRA IMPRESSÕES DO CURSO DE PYTHON E CURSO DE PANDAS'"
      ]
     },
     "execution_count": 28,
     "metadata": {},
     "output_type": "execute_result"
    }
   ],
   "source": [
    "frase\n"
   ]
  },
  {
   "cell_type": "code",
   "execution_count": null,
   "metadata": {
    "colab": {
     "base_uri": "https://localhost:8080/",
     "height": 34
    },
    "colab_type": "code",
    "id": "yR_S-1Hgo3MV",
    "outputId": "07e96832-c627-4245-e8be-ddf24e1836a1"
   },
   "outputs": [],
   "source": []
  },
  {
   "cell_type": "code",
   "execution_count": null,
   "metadata": {
    "colab": {
     "base_uri": "https://localhost:8080/",
     "height": 34
    },
    "colab_type": "code",
    "id": "m7I4K_SOo8fx",
    "outputId": "841b70d7-91e7-42b2-d8a1-1373ce81b986"
   },
   "outputs": [],
   "source": []
  },
  {
   "cell_type": "code",
   "execution_count": null,
   "metadata": {
    "colab": {
     "base_uri": "https://localhost:8080/",
     "height": 34
    },
    "colab_type": "code",
    "id": "O3CtWuespFRj",
    "outputId": "d5660843-5c84-4077-d41d-915e9ca1476a"
   },
   "outputs": [],
   "source": []
  },
  {
   "cell_type": "code",
   "execution_count": 0,
   "metadata": {
    "colab": {},
    "colab_type": "code",
    "id": "XINFFY3npMCQ"
   },
   "outputs": [],
   "source": []
  },
  {
   "cell_type": "code",
   "execution_count": null,
   "metadata": {
    "colab": {
     "base_uri": "https://localhost:8080/",
     "height": 34
    },
    "colab_type": "code",
    "id": "BYCCspy4pQZI",
    "outputId": "2af62915-ee87-44d1-ac7e-9b965ef6d0fb"
   },
   "outputs": [],
   "source": []
  },
  {
   "cell_type": "code",
   "execution_count": null,
   "metadata": {
    "colab": {
     "base_uri": "https://localhost:8080/",
     "height": 34
    },
    "colab_type": "code",
    "id": "DRe_C_y6ppzZ",
    "outputId": "fd4f8e59-2e82-46c9-802f-995ff2211ec6"
   },
   "outputs": [],
   "source": []
  },
  {
   "cell_type": "code",
   "execution_count": 0,
   "metadata": {
    "colab": {},
    "colab_type": "code",
    "id": "piNSui7dpwpG"
   },
   "outputs": [],
   "source": []
  }
 ],
 "metadata": {
  "colab": {
   "name": "Aula1_Introducao_Python.ipynb",
   "provenance": []
  },
  "kernelspec": {
   "display_name": "Python 3 (ipykernel)",
   "language": "python",
   "name": "python3"
  },
  "language_info": {
   "codemirror_mode": {
    "name": "ipython",
    "version": 3
   },
   "file_extension": ".py",
   "mimetype": "text/x-python",
   "name": "python",
   "nbconvert_exporter": "python",
   "pygments_lexer": "ipython3",
   "version": "3.9.12"
  }
 },
 "nbformat": 4,
 "nbformat_minor": 1
}
