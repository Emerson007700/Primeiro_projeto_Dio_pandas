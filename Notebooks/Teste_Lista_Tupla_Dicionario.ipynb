{
 "cells": [
  {
   "cell_type": "markdown",
   "id": "15694c97",
   "metadata": {},
   "source": [
    "TESTANDO LISTAS"
   ]
  },
  {
   "cell_type": "code",
   "execution_count": 2,
   "id": "0ef848b3",
   "metadata": {},
   "outputs": [
    {
     "name": "stdout",
     "output_type": "stream",
     "text": [
      "[1, 2, 3]\n"
     ]
    }
   ],
   "source": [
    "animais = [1,2,3]\n",
    "print(animais)"
   ]
  },
  {
   "cell_type": "code",
   "execution_count": 40,
   "id": "c8f256e1",
   "metadata": {},
   "outputs": [
    {
     "name": "stdout",
     "output_type": "stream",
     "text": [
      "['gato', 'cavalo ', 'porco', 1, 2, 3]\n"
     ]
    }
   ],
   "source": [
    "animais = ['gato', 'cavalo ', 'porco', 1,2,3]# Veja que a lista pode receber tanto inteiros quanto strs, \n",
    "                                        # ou seja palavras e numeros verifique que as palavras estão entre ''\n",
    "print(animais)"
   ]
  },
  {
   "cell_type": "code",
   "execution_count": 41,
   "id": "9e12135a",
   "metadata": {},
   "outputs": [
    {
     "data": {
      "text/plain": [
       "'gato'"
      ]
     },
     "execution_count": 41,
     "metadata": {},
     "output_type": "execute_result"
    }
   ],
   "source": [
    "animais[0]# Imprime o primeiro elemento da lista ou valor atribuido\n",
    "          # Cada ('') corresponde a 1 elemnto\n"
   ]
  },
  {
   "cell_type": "code",
   "execution_count": 42,
   "id": "032ba8f5",
   "metadata": {},
   "outputs": [
    {
     "data": {
      "text/plain": [
       "'cavalo '"
      ]
     },
     "execution_count": 42,
     "metadata": {},
     "output_type": "execute_result"
    }
   ],
   "source": [
    "animais[1]"
   ]
  },
  {
   "cell_type": "code",
   "execution_count": 55,
   "id": "47b43958",
   "metadata": {},
   "outputs": [
    {
     "name": "stdout",
     "output_type": "stream",
     "text": [
      "['gato', 'vaca', 2, 3]\n"
     ]
    }
   ],
   "source": [
    "animais[1] = 'vaca' # Trocando ume elemento\n",
    "print(animais)"
   ]
  },
  {
   "cell_type": "code",
   "execution_count": 56,
   "id": "c119885f",
   "metadata": {},
   "outputs": [
    {
     "data": {
      "text/plain": [
       "4"
      ]
     },
     "execution_count": 56,
     "metadata": {},
     "output_type": "execute_result"
    }
   ],
   "source": [
    "len(animais)"
   ]
  },
  {
   "cell_type": "code",
   "execution_count": 54,
   "id": "ec787a6b",
   "metadata": {},
   "outputs": [
    {
     "data": {
      "text/plain": [
       "False"
      ]
     },
     "execution_count": 54,
     "metadata": {},
     "output_type": "execute_result"
    }
   ],
   "source": [
    "'cavalo' in animais"
   ]
  },
  {
   "cell_type": "code",
   "execution_count": 57,
   "id": "703b72db",
   "metadata": {},
   "outputs": [
    {
     "data": {
      "text/plain": [
       "True"
      ]
     },
     "execution_count": 57,
     "metadata": {},
     "output_type": "execute_result"
    }
   ],
   "source": [
    "'gato' in animais # Informa se o elemento contem aquela palavra"
   ]
  },
  {
   "cell_type": "code",
   "execution_count": 59,
   "id": "80b5a300",
   "metadata": {},
   "outputs": [
    {
     "name": "stdout",
     "output_type": "stream",
     "text": [
      "[500, 900, 100, 22, 300, 1]\n"
     ]
    }
   ],
   "source": [
    "lista=[500, 900, 100, 22, 300, 1]\n",
    "print(lista)"
   ]
  },
  {
   "cell_type": "code",
   "execution_count": 60,
   "id": "4cf78a4c",
   "metadata": {},
   "outputs": [
    {
     "data": {
      "text/plain": [
       "900"
      ]
     },
     "execution_count": 60,
     "metadata": {},
     "output_type": "execute_result"
    }
   ],
   "source": [
    "max(lista)#Informa o mais numero da lista"
   ]
  },
  {
   "cell_type": "code",
   "execution_count": 61,
   "id": "af3afa3a",
   "metadata": {},
   "outputs": [
    {
     "data": {
      "text/plain": [
       "1"
      ]
     },
     "execution_count": 61,
     "metadata": {},
     "output_type": "execute_result"
    }
   ],
   "source": [
    "min(lista)#informa o menor nulero da lista"
   ]
  },
  {
   "cell_type": "code",
   "execution_count": 62,
   "id": "e2b31ecc",
   "metadata": {},
   "outputs": [
    {
     "name": "stdout",
     "output_type": "stream",
     "text": [
      "[500, 900, 100, 22, 300, 1, 'Leao']\n"
     ]
    }
   ],
   "source": [
    "lista.append('Leao')#adicionou a nossa lista (.append) mas ´so aceita um argumento (leao)\n",
    "print(lista)"
   ]
  },
  {
   "cell_type": "code",
   "execution_count": 63,
   "id": "ff61fc0c",
   "metadata": {},
   "outputs": [
    {
     "name": "stdout",
     "output_type": "stream",
     "text": [
      "[500, 900, 100, 22, 300, 1, 'Leao']\n"
     ]
    }
   ],
   "source": [
    "print(lista)"
   ]
  },
  {
   "cell_type": "code",
   "execution_count": 76,
   "id": "0af64323",
   "metadata": {},
   "outputs": [
    {
     "name": "stdout",
     "output_type": "stream",
     "text": [
      "[500, 900, 100, 22, 300, 1, 'Leao', 'Macaco', 45, 48, 'Macaco', 45, 48, 500, 'Macaco', 45, 48, 500]\n"
     ]
    }
   ],
   "source": [
    "lista.extend(['Macaco' ,45, 48, 500])#E preciso criar uma outra lista []\n",
    "print(lista)"
   ]
  },
  {
   "cell_type": "code",
   "execution_count": 77,
   "id": "9afdec38",
   "metadata": {},
   "outputs": [
    {
     "data": {
      "text/plain": [
       "3"
      ]
     },
     "execution_count": 77,
     "metadata": {},
     "output_type": "execute_result"
    }
   ],
   "source": [
    "lista.count(500)# exibe quantas vezes a palavra apareceu na lista"
   ]
  },
  {
   "cell_type": "code",
   "execution_count": 78,
   "id": "c34e2d6c",
   "metadata": {},
   "outputs": [
    {
     "data": {
      "text/plain": [
       "3"
      ]
     },
     "execution_count": 78,
     "metadata": {},
     "output_type": "execute_result"
    }
   ],
   "source": [
    "lista.count('Macaco')"
   ]
  },
  {
   "cell_type": "code",
   "execution_count": 82,
   "id": "df99aaa8",
   "metadata": {},
   "outputs": [
    {
     "name": "stdout",
     "output_type": "stream",
     "text": [
      "[1, 2, 500, 20, 100, 800, 3, 10]\n"
     ]
    }
   ],
   "source": [
    "lista_numerica =[1,2,500,20,100,800,3,10]\n",
    "print(lista_numerica)"
   ]
  },
  {
   "cell_type": "code",
   "execution_count": 86,
   "id": "8052835c",
   "metadata": {},
   "outputs": [
    {
     "name": "stdout",
     "output_type": "stream",
     "text": [
      "[1, 2, 3, 10, 20, 100, 500, 800]\n"
     ]
    }
   ],
   "source": [
    "lista_numerica.sort()#Coloca em ordem crecente\n",
    "print(lista_numerica)"
   ]
  },
  {
   "cell_type": "markdown",
   "id": "5c4f0c50",
   "metadata": {},
   "source": [
    "# TUPLAS"
   ]
  },
  {
   "cell_type": "markdown",
   "id": "46def62d",
   "metadata": {},
   "source": [
    "As tuplas são imutaveis nao podem ser mudadas nem adicionar nada em tuplas"
   ]
  },
  {
   "cell_type": "markdown",
   "id": "515373db",
   "metadata": {},
   "source": [
    "# Dicionario"
   ]
  },
  {
   "cell_type": "code",
   "execution_count": 87,
   "id": "c94af399",
   "metadata": {},
   "outputs": [
    {
     "name": "stdout",
     "output_type": "stream",
     "text": [
      "{'Maça': 20, 'Gato': 45, 'Abacate': 10}\n"
     ]
    }
   ],
   "source": [
    "dc={'Maça':20, 'Gato': 45, 'Abacate':10}#Dicionario dentro de {} e atribui um valor e pode modificar esse valor caso queira\n",
    "print(dc)"
   ]
  },
  {
   "cell_type": "code",
   "execution_count": 89,
   "id": "b7d32a4e",
   "metadata": {},
   "outputs": [
    {
     "name": "stdout",
     "output_type": "stream",
     "text": [
      "{'Maça': 20, 'Gato': 30, 'Abacate': 10}\n"
     ]
    }
   ],
   "source": [
    "dc['Gato'] = 30\n",
    "print(dc)"
   ]
  },
  {
   "cell_type": "code",
   "execution_count": 91,
   "id": "26d447d3",
   "metadata": {},
   "outputs": [
    {
     "data": {
      "text/plain": [
       "dict_values([20, 30, 10])"
      ]
     },
     "execution_count": 91,
     "metadata": {},
     "output_type": "execute_result"
    }
   ],
   "source": [
    "dc.values()#retorna o valor dos dicionarios"
   ]
  },
  {
   "cell_type": "code",
   "execution_count": 92,
   "id": "e3d38f18",
   "metadata": {},
   "outputs": [
    {
     "data": {
      "text/plain": [
       "dict_keys(['Maça', 'Gato', 'Abacate'])"
      ]
     },
     "execution_count": 92,
     "metadata": {},
     "output_type": "execute_result"
    }
   ],
   "source": [
    "dc.keys()#retorna os chaves do dicionario"
   ]
  },
  {
   "cell_type": "code",
   "execution_count": 95,
   "id": "74d091ab",
   "metadata": {},
   "outputs": [
    {
     "data": {
      "text/plain": [
       "37"
      ]
     },
     "execution_count": 95,
     "metadata": {},
     "output_type": "execute_result"
    }
   ],
   "source": [
    "dc.setdefault('Limao',37)# Verifica se tem no dicionario e se não tiver ele acrecenta"
   ]
  },
  {
   "cell_type": "code",
   "execution_count": 96,
   "id": "ee59624f",
   "metadata": {},
   "outputs": [
    {
     "name": "stdout",
     "output_type": "stream",
     "text": [
      "{'Maça': 20, 'Gato': 30, 'Abacate': 10, 'Limao': 37}\n"
     ]
    }
   ],
   "source": [
    "print(dc)"
   ]
  },
  {
   "cell_type": "code",
   "execution_count": null,
   "id": "625c13f4",
   "metadata": {},
   "outputs": [],
   "source": []
  }
 ],
 "metadata": {
  "kernelspec": {
   "display_name": "Python 3 (ipykernel)",
   "language": "python",
   "name": "python3"
  },
  "language_info": {
   "codemirror_mode": {
    "name": "ipython",
    "version": 3
   },
   "file_extension": ".py",
   "mimetype": "text/x-python",
   "name": "python",
   "nbconvert_exporter": "python",
   "pygments_lexer": "ipython3",
   "version": "3.9.12"
  }
 },
 "nbformat": 4,
 "nbformat_minor": 5
}
